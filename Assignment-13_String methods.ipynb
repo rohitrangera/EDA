{
 "cells": [
  {
   "cell_type": "code",
   "execution_count": 95,
   "id": "50c38841",
   "metadata": {
    "scrolled": true
   },
   "outputs": [
    {
     "name": "stdout",
     "output_type": "stream",
     "text": [
      "['hai', 'how', 'are', 'you']\n",
      "['hai ', ' are you']\n",
      "['hai how ', ' you']\n",
      "['hai ', ' you']\n",
      "['', '']\n"
     ]
    }
   ],
   "source": [
    "##  split() Return a list of the words in the string, using sep as the delimiter string.\n",
    "str1='hai how are you'\n",
    "t1=str1.split()\n",
    "print(t1)\n",
    "t2=str1.split('how')\n",
    "print(t2)\n",
    "t3=str1.split('are')\n",
    "print(t3)\n",
    "t4=str1.split('how are')\n",
    "print(t4)\n",
    "t5=str1.split('hai how are you')\n",
    "print(t5)"
   ]
  },
  {
   "cell_type": "code",
   "execution_count": 88,
   "id": "c630d2f5",
   "metadata": {},
   "outputs": [
    {
     "name": "stdout",
     "output_type": "stream",
     "text": [
      "hai how are you\n",
      "   hai how are you   \n",
      "   hai how are you   \n",
      "   hai how are you   \n"
     ]
    }
   ],
   "source": [
    "## strip() Return a copy of the string with leading and trailing whitespace removed.\n",
    "str1='   hai how are you   '\n",
    "t1=str1.strip()\n",
    "print(t1)\n",
    "t2=str1.strip('hai')\n",
    "print(t2)\n",
    "t3=str1.strip('how')\n",
    "print(t3)\n",
    "t4=str1.strip('you')\n",
    "print(t4)"
   ]
  },
  {
   "cell_type": "code",
   "execution_count": 66,
   "id": "8945594b",
   "metadata": {},
   "outputs": [
    {
     "name": "stdout",
     "output_type": "stream",
     "text": [
      "hai how are you\n",
      " how are you\n",
      "ai how are you\n",
      "ai how are you\n",
      "hai how are you\n"
     ]
    }
   ],
   "source": [
    "##  lstrip()  Return a copy of the string with leading whitespace removed.\n",
    "str1='hai how are you'\n",
    "t1=str1.lstrip()\n",
    "print(t1)\n",
    "t2=str1.lstrip('hai')\n",
    "print(t2)\n",
    "t3=str1.lstrip('how')\n",
    "print(t3)\n",
    "t4=str1.lstrip('h')\n",
    "print(t4)\n",
    "t5=str1.lstrip('you')\n",
    "print(t5)"
   ]
  },
  {
   "cell_type": "code",
   "execution_count": 74,
   "id": "0000dbaa",
   "metadata": {},
   "outputs": [
    {
     "name": "stdout",
     "output_type": "stream",
     "text": [
      "hai how are    you       yes\n",
      "hai how are    you       yes\n"
     ]
    }
   ],
   "source": [
    "## rstrip() Return a copy of the string with trailing whitespace removed.\n",
    "str1='hai how are    you       yes    '\n",
    "t1=str1.rstrip()\n",
    "print(t1)\n",
    "t2=str1.rstrip('hai  ')\n",
    "print(t2)"
   ]
  },
  {
   "cell_type": "code",
   "execution_count": 51,
   "id": "16edb89e",
   "metadata": {},
   "outputs": [
    {
     "name": "stdout",
     "output_type": "stream",
     "text": [
      "True\n",
      "True\n",
      "False\n",
      "True\n"
     ]
    }
   ],
   "source": [
    "## startswith() method return true if start with spefic prefix \n",
    "str1='hai how are you'\n",
    "t1=str1.startswith('')\n",
    "print(t1)\n",
    "t2=str1.startswith('h')\n",
    "print(t2)\n",
    "t3=str1.startswith('ho')\n",
    "print(t3)\n",
    "t4=str1.startswith('hai')\n",
    "print(t4)"
   ]
  },
  {
   "cell_type": "code",
   "execution_count": 80,
   "id": "8024151a",
   "metadata": {},
   "outputs": [
    {
     "name": "stdout",
     "output_type": "stream",
     "text": [
      "True\n",
      "False\n",
      "True\n",
      "True\n"
     ]
    }
   ],
   "source": [
    "## endswith() Return True if S ends with the specified suffix, False otherwise.\n",
    "str1='hai how are you'\n",
    "t1=str1.endswith('you')\n",
    "print(t1)\n",
    "t2=str1.endswith('are')\n",
    "print(t2)\n",
    "t3=str1.endswith('u')\n",
    "print(t3)\n",
    "t4=str1.endswith('ou')\n",
    "print(t4)\n"
   ]
  },
  {
   "cell_type": "code",
   "execution_count": null,
   "id": "ffaa779a",
   "metadata": {},
   "outputs": [],
   "source": []
  }
 ],
 "metadata": {
  "kernelspec": {
   "display_name": "Python 3",
   "language": "python",
   "name": "python3"
  },
  "language_info": {
   "codemirror_mode": {
    "name": "ipython",
    "version": 3
   },
   "file_extension": ".py",
   "mimetype": "text/x-python",
   "name": "python",
   "nbconvert_exporter": "python",
   "pygments_lexer": "ipython3",
   "version": "3.8.8"
  }
 },
 "nbformat": 4,
 "nbformat_minor": 5
}
