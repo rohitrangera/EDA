{
 "cells": [
  {
   "cell_type": "code",
   "execution_count": 4,
   "id": "bf7b9696",
   "metadata": {},
   "outputs": [
    {
     "name": "stdout",
     "output_type": "stream",
     "text": [
      "A\n",
      "B\n",
      "C\n",
      "D\n"
     ]
    }
   ],
   "source": [
    "### For loop\n",
    "list1=['A','B','C','D']\n",
    "for i in range (len(list1)):\n",
    "    print(list1[i])"
   ]
  },
  {
   "cell_type": "code",
   "execution_count": 6,
   "id": "039157da",
   "metadata": {},
   "outputs": [
    {
     "name": "stdout",
     "output_type": "stream",
     "text": [
      "Positive index of A = 0 \n",
      "Positive index of B = 1 \n",
      "Positive index of C = 2 \n",
      "Positive index of D = 3 \n"
     ]
    }
   ],
   "source": [
    "# Positive index\n",
    "list1=['A','B','C','D']\n",
    "for i in range (len(list1)):\n",
    "    print(f'Positive index of {list1[i]} = {i} ')"
   ]
  },
  {
   "cell_type": "code",
   "execution_count": 8,
   "id": "a1ea9103",
   "metadata": {},
   "outputs": [
    {
     "name": "stdout",
     "output_type": "stream",
     "text": [
      "Negative index of A = -4 \n",
      "Negative index of B = -3 \n",
      "Negative index of C = -2 \n",
      "Negative index of D = -1 \n"
     ]
    }
   ],
   "source": [
    "## Negative index\n",
    "list1=['A','B','C','D']\n",
    "for i in range (len(list1)):\n",
    "    print(f'Negative index of {list1[i]} = {i-len(list1)} ')"
   ]
  },
  {
   "cell_type": "code",
   "execution_count": 10,
   "id": "90e1873d",
   "metadata": {},
   "outputs": [
    {
     "data": {
      "text/plain": [
       "['A', 'Changed', 'C', 'D']"
      ]
     },
     "execution_count": 10,
     "metadata": {},
     "output_type": "execute_result"
    }
   ],
   "source": [
    "## Mutability\n",
    "list1=['A','B','C','D']\n",
    "list1[1]='Changed'\n",
    "list1"
   ]
  },
  {
   "cell_type": "code",
   "execution_count": 26,
   "id": "aa43dba0",
   "metadata": {},
   "outputs": [
    {
     "name": "stdout",
     "output_type": "stream",
     "text": [
      "['B']\n",
      "['A', 'C']\n"
     ]
    }
   ],
   "source": [
    "# Slicing\n",
    "list1=['A','B','C','D']\n",
    "l1=list1[1:3:2]\n",
    "l2=list1[0:4:2]\n",
    "print(l1)\n",
    "print(l2)"
   ]
  },
  {
   "cell_type": "code",
   "execution_count": 18,
   "id": "5e9cfa31",
   "metadata": {},
   "outputs": [
    {
     "data": {
      "text/plain": [
       "['A', 'B', 'C', 'D', 1, 2, 3, 4]"
      ]
     },
     "execution_count": 18,
     "metadata": {},
     "output_type": "execute_result"
    }
   ],
   "source": [
    "# Concatination\n",
    "list1=['A','B','C','D']\n",
    "list2=[1,2,3,4]\n",
    "list1+list2"
   ]
  },
  {
   "cell_type": "code",
   "execution_count": 32,
   "id": "a38aaedc",
   "metadata": {},
   "outputs": [
    {
     "name": "stdout",
     "output_type": "stream",
     "text": [
      "Positive index of A is 0 and Negative index of A is -4\n",
      "Positive index of B is 1 and Negative index of B is -3\n",
      "Positive index of C is 2 and Negative index of C is -2\n",
      "Positive index of D is 3 and Negative index of D is -1\n"
     ]
    }
   ],
   "source": [
    "list1=['A','B','C','D']\n",
    "for i in range (len(list1)):\n",
    "    print(f'Positive index of {list1[i]} is {i} and Negative index of {list1[i]} is {i-len(list1)}')\n",
    "    "
   ]
  },
  {
   "cell_type": "code",
   "execution_count": null,
   "id": "7c75ca05",
   "metadata": {},
   "outputs": [],
   "source": []
  }
 ],
 "metadata": {
  "kernelspec": {
   "display_name": "Python 3",
   "language": "python",
   "name": "python3"
  },
  "language_info": {
   "codemirror_mode": {
    "name": "ipython",
    "version": 3
   },
   "file_extension": ".py",
   "mimetype": "text/x-python",
   "name": "python",
   "nbconvert_exporter": "python",
   "pygments_lexer": "ipython3",
   "version": "3.8.8"
  }
 },
 "nbformat": 4,
 "nbformat_minor": 5
}
