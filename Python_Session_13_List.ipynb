{
 "cells": [
  {
   "cell_type": "markdown",
   "id": "12aea40f",
   "metadata": {},
   "source": [
    "- Representation\n",
    "\n",
    "- type\n",
    "\n",
    "- len\n",
    "\n",
    "- max\n",
    "\n",
    "- min\n",
    "\n",
    "- sorted\n",
    "\n",
    "- reversed\n",
    "\n",
    "- in\n",
    "\n",
    "- for loop using in\n",
    "\n",
    "- index\n",
    "\n",
    "- for loop index\n",
    "\n",
    "- mutable\n",
    "\n",
    "- concatination\n",
    "\n",
    "- slicing\n",
    "\n",
    "- methods\n",
    "\n"
   ]
  },
  {
   "cell_type": "markdown",
   "id": "3729b09e",
   "metadata": {},
   "source": [
    "**Representation"
   ]
  },
  {
   "cell_type": "markdown",
   "id": "d4c889b2",
   "metadata": {},
   "source": [
    "- string representation with quotes\n",
    "\n",
    "- list represent with squre brackets []"
   ]
  },
  {
   "cell_type": "code",
   "execution_count": 1,
   "id": "d38d7c84",
   "metadata": {},
   "outputs": [
    {
     "data": {
      "text/plain": [
       "[1, 2, 3, 4]"
      ]
     },
     "execution_count": 1,
     "metadata": {},
     "output_type": "execute_result"
    }
   ],
   "source": [
    "l1=[1,2,3,4]\n",
    "l1"
   ]
  },
  {
   "cell_type": "code",
   "execution_count": 2,
   "id": "e3e929da",
   "metadata": {},
   "outputs": [
    {
     "data": {
      "text/plain": [
       "list"
      ]
     },
     "execution_count": 2,
     "metadata": {},
     "output_type": "execute_result"
    }
   ],
   "source": [
    "type(l1)"
   ]
  },
  {
   "cell_type": "code",
   "execution_count": 3,
   "id": "b4abc32e",
   "metadata": {},
   "outputs": [
    {
     "data": {
      "text/plain": [
       "['A', 'B', 'C', 'D']"
      ]
     },
     "execution_count": 3,
     "metadata": {},
     "output_type": "execute_result"
    }
   ],
   "source": [
    "l2=['A', 'B', 'C', 'D']\n",
    "l2"
   ]
  },
  {
   "cell_type": "code",
   "execution_count": 4,
   "id": "a0752f6b",
   "metadata": {},
   "outputs": [
    {
     "data": {
      "text/plain": [
       "[1, 2, 3, 4, 'A', 'B', 'C', 'D']"
      ]
     },
     "execution_count": 4,
     "metadata": {},
     "output_type": "execute_result"
    }
   ],
   "source": [
    "l3=[1,2,3,4,'A','B','C','D']\n",
    "l3"
   ]
  },
  {
   "cell_type": "code",
   "execution_count": 5,
   "id": "9b8776ef",
   "metadata": {},
   "outputs": [
    {
     "data": {
      "text/plain": [
       "[1, 2, 3, 'A', 'B', 'C', 'Apple', 'Ball', 'Cat', True, False]"
      ]
     },
     "execution_count": 5,
     "metadata": {},
     "output_type": "execute_result"
    }
   ],
   "source": [
    "l4=[1,2,3,'A','B','C','Apple','Ball','Cat',True,False]\n",
    "l4"
   ]
  },
  {
   "cell_type": "code",
   "execution_count": 7,
   "id": "43e90d72",
   "metadata": {},
   "outputs": [
    {
     "data": {
      "text/plain": [
       "['naresh it']"
      ]
     },
     "execution_count": 7,
     "metadata": {},
     "output_type": "execute_result"
    }
   ],
   "source": [
    "name='naresh it'\n",
    "l5=[name]\n",
    "l5"
   ]
  },
  {
   "cell_type": "code",
   "execution_count": 8,
   "id": "37d8d26c",
   "metadata": {},
   "outputs": [
    {
     "data": {
      "text/plain": [
       "[100, 100, 100]"
      ]
     },
     "execution_count": 8,
     "metadata": {},
     "output_type": "execute_result"
    }
   ],
   "source": [
    "l6=[100,100,100]\n",
    "l6"
   ]
  },
  {
   "cell_type": "code",
   "execution_count": 9,
   "id": "80553bc7",
   "metadata": {},
   "outputs": [
    {
     "data": {
      "text/plain": [
       "[100, 'apple', ['A', 2]]"
      ]
     },
     "execution_count": 9,
     "metadata": {},
     "output_type": "execute_result"
    }
   ],
   "source": [
    "l7=[100,'apple',['A',2]]\n",
    "l7"
   ]
  },
  {
   "cell_type": "code",
   "execution_count": 13,
   "id": "0f9bd326",
   "metadata": {},
   "outputs": [
    {
     "data": {
      "text/plain": [
       "(2.4, '444ab')"
      ]
     },
     "execution_count": 13,
     "metadata": {},
     "output_type": "execute_result"
    }
   ],
   "source": [
    "l8=2.4,'444ab'\n",
    "l8"
   ]
  },
  {
   "cell_type": "markdown",
   "id": "6b526784",
   "metadata": {},
   "source": [
    "- list are array of elements\n",
    "\n",
    "- list elements are heterogeneous all the data types we can represent in a list\n",
    "\n",
    "- list elements are allowed duplicates\n",
    "\n",
    "- list in list is possible\n",
    "\n",
    "- variable assignment also possible in the list\n",
    "\n",
    "\n"
   ]
  },
  {
   "cell_type": "code",
   "execution_count": null,
   "id": "ad833162",
   "metadata": {},
   "outputs": [],
   "source": [
    "- len\n",
    "\n",
    "- max\n",
    "\n",
    "- min\n",
    "\n",
    "- sorted\n",
    "\n",
    "- reversed\n"
   ]
  },
  {
   "cell_type": "code",
   "execution_count": 30,
   "id": "574fce38",
   "metadata": {},
   "outputs": [
    {
     "name": "stdout",
     "output_type": "stream",
     "text": [
      "4\n",
      "4\n",
      "1\n",
      "[1, 2, 3, 4]\n",
      "<list_reverseiterator object at 0x7ff800553e20>\n"
     ]
    }
   ],
   "source": [
    "l1=[1,2,3,4]\n",
    "p1=len(l1)\n",
    "print(p1)\n",
    "m=max(l1)\n",
    "print(m)\n",
    "mi=min(l1)\n",
    "print(mi)\n",
    "so=sorted(l1)\n",
    "print(so)\n",
    "re=reversed(l1)\n",
    "print(re)\n"
   ]
  },
  {
   "cell_type": "code",
   "execution_count": 31,
   "id": "64983b55",
   "metadata": {},
   "outputs": [
    {
     "name": "stdout",
     "output_type": "stream",
     "text": [
      "4\n",
      "D\n",
      "A\n",
      "['A', 'B', 'C', 'D']\n",
      "<list_reverseiterator object at 0x7ff7fff2c4c0>\n"
     ]
    }
   ],
   "source": [
    "l2=['A','B','C','D']\n",
    "p1=len(l2)\n",
    "print(p1)\n",
    "m=max(l2)\n",
    "print(m)\n",
    "mi=min(l2)\n",
    "print(mi)\n",
    "so=sorted(l2)\n",
    "print(so)\n",
    "re=reversed(l2)\n",
    "print(re)"
   ]
  },
  {
   "cell_type": "code",
   "execution_count": 37,
   "id": "dfbc849d",
   "metadata": {},
   "outputs": [
    {
     "name": "stdout",
     "output_type": "stream",
     "text": [
      "8\n",
      "<list_reverseiterator object at 0x7ff800553a30>\n"
     ]
    }
   ],
   "source": [
    "l3=[1,2,3,4,'A','B','C','D']\n",
    "p1=len(l3)\n",
    "print(p1)\n",
    "#max(l3)  ## error\n",
    "#print(m)\n",
    "#mi=min(l3) ## error\n",
    "#print(mi)  ## error\n",
    "#so=sorted(l3)\n",
    "#print(so)\n",
    "re=reversed(l3)\n",
    "print(re)"
   ]
  },
  {
   "cell_type": "code",
   "execution_count": null,
   "id": "8e739a73",
   "metadata": {},
   "outputs": [],
   "source": [
    "l3=[1,2,3,4,'A','B','C','D']\n",
    "p1=len(l3)\n",
    "print(p1)\n",
    "#max(l3)  ## error\n",
    "#print(m)\n",
    "#mi=min(l3) ## error\n",
    "#print(mi)  ## error\n",
    "#so=sorted(l3)\n",
    "#print(so)\n",
    "re=reversed(l3)\n",
    "print(re)"
   ]
  },
  {
   "cell_type": "markdown",
   "id": "241ed580",
   "metadata": {},
   "source": [
    "l4=[1,2,3,'A','B','C','Apple','Ball','Cat',True,False]\n",
    "p1=len(l4)\n",
    "print(p1)\n",
    "ma=max(l4)\n",
    "print(ma)\n",
    "#mi=min(l4)\n",
    "#print(mi)\n",
    "#so=sorted(l4)\n",
    "#print(so)\n",
    "#re=reversed(l4)\n",
    "#list(reversed(l4))\n",
    "#print(re)"
   ]
  },
  {
   "cell_type": "code",
   "execution_count": 48,
   "id": "77e6f15f",
   "metadata": {},
   "outputs": [
    {
     "data": {
      "text/plain": [
       "3"
      ]
     },
     "execution_count": 48,
     "metadata": {},
     "output_type": "execute_result"
    }
   ],
   "source": [
    "list1=['Apple',1,['Cherry','Banana']]\n",
    "len(list1)"
   ]
  },
  {
   "cell_type": "code",
   "execution_count": 49,
   "id": "0c65247a",
   "metadata": {},
   "outputs": [
    {
     "ename": "TypeError",
     "evalue": "'>' not supported between instances of 'str' and 'int'",
     "output_type": "error",
     "traceback": [
      "\u001b[0;31m---------------------------------------------------------------------------\u001b[0m",
      "\u001b[0;31mTypeError\u001b[0m                                 Traceback (most recent call last)",
      "\u001b[0;32m<ipython-input-49-9169ef39d498>\u001b[0m in \u001b[0;36m<module>\u001b[0;34m\u001b[0m\n\u001b[1;32m      1\u001b[0m \u001b[0mlist1\u001b[0m\u001b[0;34m=\u001b[0m\u001b[0;34m[\u001b[0m\u001b[0;36m65\u001b[0m\u001b[0;34m,\u001b[0m\u001b[0;34m'A'\u001b[0m\u001b[0;34m]\u001b[0m\u001b[0;34m\u001b[0m\u001b[0;34m\u001b[0m\u001b[0m\n\u001b[0;32m----> 2\u001b[0;31m \u001b[0mmax\u001b[0m\u001b[0;34m(\u001b[0m\u001b[0mlist1\u001b[0m\u001b[0;34m)\u001b[0m\u001b[0;34m\u001b[0m\u001b[0;34m\u001b[0m\u001b[0m\n\u001b[0m",
      "\u001b[0;31mTypeError\u001b[0m: '>' not supported between instances of 'str' and 'int'"
     ]
    }
   ],
   "source": [
    "list1=[65,'A']\n",
    "max(list1)"
   ]
  },
  {
   "cell_type": "markdown",
   "id": "05487d44",
   "metadata": {},
   "source": [
    "**Index operations"
   ]
  },
  {
   "cell_type": "code",
   "execution_count": 54,
   "id": "e5e9cecd",
   "metadata": {},
   "outputs": [
    {
     "name": "stdout",
     "output_type": "stream",
     "text": [
      "Apple\n",
      "Apple\n"
     ]
    }
   ],
   "source": [
    "l4=[1,2,3,'Apple','Ball','Cat',True,False]\n",
    "a1=l4[3]\n",
    "print(a1)\n",
    "a2=l4[-5]\n",
    "print(a2)"
   ]
  },
  {
   "cell_type": "code",
   "execution_count": 62,
   "id": "45e68991",
   "metadata": {},
   "outputs": [
    {
     "data": {
      "text/plain": [
       "2"
      ]
     },
     "execution_count": 62,
     "metadata": {},
     "output_type": "execute_result"
    }
   ],
   "source": [
    "l1=[1,[2]]\n",
    "#new=l1[1]\n",
    "#new[0]\n",
    "\n",
    "l1[1][0]"
   ]
  },
  {
   "cell_type": "code",
   "execution_count": 65,
   "id": "c1c4947c",
   "metadata": {},
   "outputs": [
    {
     "data": {
      "text/plain": [
       "'A'"
      ]
     },
     "execution_count": 65,
     "metadata": {},
     "output_type": "execute_result"
    }
   ],
   "source": [
    "## I want to print A only\n",
    "l1=[1,[2,'A']]\n",
    "l1[1][1]\n",
    "#'A' represent at index 1\n",
    "# so we gien l1[1] : [2,'A'] it is also a list\n",
    "# the list has two elements\n",
    "# 'A' at 1st index\n",
    "# l1[1][1]"
   ]
  },
  {
   "cell_type": "code",
   "execution_count": 79,
   "id": "92d474f5",
   "metadata": {},
   "outputs": [
    {
     "data": {
      "text/plain": [
       "'B'"
      ]
     },
     "execution_count": 79,
     "metadata": {},
     "output_type": "execute_result"
    }
   ],
   "source": [
    "# I want the to print 'B' only, what will be the string\n",
    "\n",
    "l1=[1,[2,['A','B']]]\n",
    "len(l1)\n",
    "l1[1][1][1]"
   ]
  },
  {
   "cell_type": "code",
   "execution_count": 85,
   "id": "b94cef0e",
   "metadata": {},
   "outputs": [
    {
     "data": {
      "text/plain": [
       "'Apple'"
      ]
     },
     "execution_count": 85,
     "metadata": {},
     "output_type": "execute_result"
    }
   ],
   "source": [
    "l1=[1,2,\n",
    "    [3,\n",
    "     [4,\n",
    "      [5,\n",
    "       ['Apple']]]]]\n",
    "#len(l1)\n",
    "l1[2][1][1][1][0]"
   ]
  },
  {
   "cell_type": "code",
   "execution_count": 89,
   "id": "ef89abdb",
   "metadata": {},
   "outputs": [
    {
     "data": {
      "text/plain": [
       "'Banana'"
      ]
     },
     "execution_count": 89,
     "metadata": {},
     "output_type": "execute_result"
    }
   ],
   "source": [
    "list1=['Apple',1,'Solapur',['Cherry','papaya',70,[123,'Banana'],'tomato'],'python']    ## get bananna\n",
    "list1[3][3][1]"
   ]
  },
  {
   "cell_type": "code",
   "execution_count": 100,
   "id": "1194f58b",
   "metadata": {},
   "outputs": [
    {
     "data": {
      "text/plain": [
       "'cherry'"
      ]
     },
     "execution_count": 100,
     "metadata": {},
     "output_type": "execute_result"
    }
   ],
   "source": [
    "list1=[[[[[[[1,'cherry']]]]]]]\n",
    "#len(list1)\n",
    "list1[0][0][0][0][0][0][1]"
   ]
  },
  {
   "cell_type": "code",
   "execution_count": 151,
   "id": "e1e50ecd",
   "metadata": {},
   "outputs": [
    {
     "data": {
      "text/plain": [
       "['Shambaji']"
      ]
     },
     "execution_count": 151,
     "metadata": {},
     "output_type": "execute_result"
    }
   ],
   "source": [
    "list1=['MH',\n",
    "       ['Nagpur',\n",
    "        ['Orange',\n",
    "         ['likes',\n",
    "          ['king'],['Shivaji',\n",
    "                    ['Son',\n",
    "                     ['Shambaji']]]]]]]\n",
    "#len(list1)\n",
    "list1[1][1][1][2][1][1]"
   ]
  },
  {
   "cell_type": "code",
   "execution_count": null,
   "id": "c46988aa",
   "metadata": {},
   "outputs": [],
   "source": [
    "list1=['MH',\n",
    "       ['Nagpur',['Orange',['likes',['king'],['shivaji',['Son',['shmbaji']]]]]\n",
    "       ]]"
   ]
  },
  {
   "cell_type": "code",
   "execution_count": 158,
   "id": "f0172585",
   "metadata": {},
   "outputs": [
    {
     "name": "stdout",
     "output_type": "stream",
     "text": [
      "A\n",
      "B\n",
      "C\n",
      "D\n"
     ]
    }
   ],
   "source": [
    "list1=['A','B','C','D']\n",
    "for i in range (len(list1)):\n",
    "    print(list1[i])"
   ]
  },
  {
   "cell_type": "code",
   "execution_count": 160,
   "id": "21998889",
   "metadata": {},
   "outputs": [
    {
     "data": {
      "text/plain": [
       "[100, 2, 3]"
      ]
     },
     "execution_count": 160,
     "metadata": {},
     "output_type": "execute_result"
    }
   ],
   "source": [
    "l=[1,2,3]\n",
    "l[0]=100\n",
    "l"
   ]
  },
  {
   "cell_type": "code",
   "execution_count": 173,
   "id": "ad40622a",
   "metadata": {},
   "outputs": [
    {
     "name": "stdout",
     "output_type": "stream",
     "text": [
      "[3, 5, 'A', 'C']\n",
      "[]\n",
      "[4]\n",
      "['E', 'C', 'A']\n"
     ]
    }
   ],
   "source": [
    "l=[1,2,3,4,5,6,'A','B','C','D','E','F','G']\n",
    "\n",
    "l1=l[2:9:2]\n",
    "print(l1)\n",
    "l2=l[3:9:-2]\n",
    "print(l2)\n",
    "l3=l[3:-9:2]\n",
    "print(l3)\n",
    "l4=l[-3:-9:-2]\n",
    "print(l4)"
   ]
  },
  {
   "cell_type": "markdown",
   "id": "876eef84",
   "metadata": {},
   "source": [
    "## List Methods"
   ]
  },
  {
   "cell_type": "code",
   "execution_count": null,
   "id": "150c3829",
   "metadata": {},
   "outputs": [],
   "source": [
    "'append'\n",
    "'clear'\n",
    "'copy'\n",
    "'count'\n",
    "'extend'\n",
    "'index'\n",
    "'insert'\n",
    "'pop'\n",
    "'remove'\n",
    "'reverse'\n",
    "'sort'"
   ]
  },
  {
   "cell_type": "markdown",
   "id": "e9be3213",
   "metadata": {},
   "source": [
    "**append**\n",
    "\n",
    "- adding elemtns in a list at last index\n",
    "\n",
    "- append method is very importment\n",
    "\n",
    "- most of the itme we will use append in real time\n",
    "\n",
    "- When you add the value the original list will be overwrite\n",
    "\n"
   ]
  },
  {
   "cell_type": "code",
   "execution_count": 182,
   "id": "713dbd29",
   "metadata": {},
   "outputs": [
    {
     "data": {
      "text/plain": [
       "['Apple', 'Ball', 'Cat']"
      ]
     },
     "execution_count": 182,
     "metadata": {},
     "output_type": "execute_result"
    }
   ],
   "source": [
    "l=['Apple','Ball','Cat']\n",
    "l"
   ]
  },
  {
   "cell_type": "markdown",
   "id": "2dde02b7",
   "metadata": {},
   "source": [
    "# You want to add Doll in a given list\n",
    "\n",
    "# keywords vs methods\n",
    "len()\n",
    "max()\n",
    "min()\n",
    "reversed()\n",
    "sorted()\n",
    "\n",
    "# Methods\n",
    "<packege>.<method>()"
   ]
  },
  {
   "cell_type": "code",
   "execution_count": 187,
   "id": "bfda0e12",
   "metadata": {},
   "outputs": [],
   "source": [
    "l.append('Doll')"
   ]
  },
  {
   "cell_type": "code",
   "execution_count": 188,
   "id": "6c3f1704",
   "metadata": {},
   "outputs": [
    {
     "data": {
      "text/plain": [
       "['Apple', 'Ball', 'Cat', 'Doll', 'Doll', 'Doll']"
      ]
     },
     "execution_count": 188,
     "metadata": {},
     "output_type": "execute_result"
    }
   ],
   "source": [
    "l"
   ]
  },
  {
   "cell_type": "code",
   "execution_count": 192,
   "id": "31f14de0",
   "metadata": {},
   "outputs": [
    {
     "data": {
      "text/plain": [
       "[1, 2, 3, 4, 100]"
      ]
     },
     "execution_count": 192,
     "metadata": {},
     "output_type": "execute_result"
    }
   ],
   "source": [
    "l1=[1,2,3,4]\n",
    "l1.append(100)\n",
    "l1"
   ]
  },
  {
   "cell_type": "code",
   "execution_count": 198,
   "id": "53c4affd",
   "metadata": {},
   "outputs": [
    {
     "name": "stdout",
     "output_type": "stream",
     "text": [
      "6\n"
     ]
    },
    {
     "data": {
      "text/plain": [
       "[10, 20, 'apple', ['A', 1], False, True]"
      ]
     },
     "execution_count": 198,
     "metadata": {},
     "output_type": "execute_result"
    }
   ],
   "source": [
    "l2=[]\n",
    "l2.append(10)\n",
    "l2.append(20)\n",
    "l2.append('apple')\n",
    "l2.append(['A',1])\n",
    "l2.append(False)\n",
    "l2.append(True)\n",
    "l2\n",
    "le=len(l2)\n",
    "print(le)\n",
    "l2"
   ]
  },
  {
   "cell_type": "markdown",
   "id": "74bf0eab",
   "metadata": {},
   "source": [
    "** Append method used to save the output in a list **"
   ]
  },
  {
   "cell_type": "code",
   "execution_count": 200,
   "id": "04dbf7d4",
   "metadata": {},
   "outputs": [
    {
     "name": "stdout",
     "output_type": "stream",
     "text": [
      "1\n",
      "4\n",
      "9\n",
      "16\n",
      "25\n"
     ]
    }
   ],
   "source": [
    "for i in range (1,6):\n",
    "    print(i*i)"
   ]
  },
  {
   "cell_type": "code",
   "execution_count": 207,
   "id": "b5fe87be",
   "metadata": {},
   "outputs": [
    {
     "data": {
      "text/plain": [
       "[1, 4, 9, 16, 25]"
      ]
     },
     "execution_count": 207,
     "metadata": {},
     "output_type": "execute_result"
    }
   ],
   "source": [
    "square_list=[]\n",
    "for i in range (1,6):\n",
    "    square_list.append(i*i)\n",
    "square_list    "
   ]
  },
  {
   "cell_type": "code",
   "execution_count": 216,
   "id": "b4619f56",
   "metadata": {},
   "outputs": [
    {
     "data": {
      "text/plain": [
       "([1, 5, 9], 15)"
      ]
     },
     "execution_count": 216,
     "metadata": {},
     "output_type": "execute_result"
    }
   ],
   "source": [
    "## str='hai hai hai'\n",
    "## what are ids of 'a'\n",
    "\n",
    "li=[]\n",
    "str='hai hai hai'\n",
    "for i in range (len(str)):\n",
    "    if str[i]=='a':\n",
    "        li.append(i)\n",
    "li,sum(li)\n",
    "    "
   ]
  },
  {
   "cell_type": "code",
   "execution_count": null,
   "id": "af4e61a3",
   "metadata": {},
   "outputs": [],
   "source": [
    "## Q2 l1=['Hyd','Mumbai','Chennai','blr']\n",
    "#. ans -- we want elements which are len of elementss  >4\n",
    "\n",
    "## Q3) l1['Hyd','Mum#bai','Chen$ai','blr']\n",
    "# ans - we want elements which are having '#'\n",
    "\n",
    "## Q4 l1=['Hyd','Mumbai','Chennai','blr']\n",
    "#. ans -- we want elements which are len of elementss  >4\n"
   ]
  }
 ],
 "metadata": {
  "kernelspec": {
   "display_name": "Python 3",
   "language": "python",
   "name": "python3"
  },
  "language_info": {
   "codemirror_mode": {
    "name": "ipython",
    "version": 3
   },
   "file_extension": ".py",
   "mimetype": "text/x-python",
   "name": "python",
   "nbconvert_exporter": "python",
   "pygments_lexer": "ipython3",
   "version": "3.8.8"
  }
 },
 "nbformat": 4,
 "nbformat_minor": 5
}
