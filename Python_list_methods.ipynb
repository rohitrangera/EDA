{
 "cells": [
  {
   "cell_type": "code",
   "execution_count": 2,
   "id": "fea855bf",
   "metadata": {},
   "outputs": [
    {
     "name": "stdout",
     "output_type": "stream",
     "text": [
      "What is capitol of Indiamodi\n",
      "who is the PM of Indiarohit\n",
      "Who is ICT ODI captaindelhi\n",
      "The total marks:  0\n"
     ]
    }
   ],
   "source": [
    "qns_list=['What is capitol of India','who is the PM of India','Who is ICT ODI captain']\n",
    "ans_list=['Delhi','Modi','Rohit']\n",
    "marks =0\n",
    "\n",
    "for i in range(len(qns_list)):\n",
    "    ans=input(qns_list[i])\n",
    "    if ans.lower()==ans_list[i].lower():\n",
    "        marks=marks+1\n",
    "goora\n",
    "print(\"The total marks: \",marks)"
   ]
  },
  {
   "cell_type": "markdown",
   "id": "63d27879",
   "metadata": {},
   "source": [
    "clear\n",
    "copy\n",
    "count\n",
    "extend\n",
    "index\n",
    "insert\n",
    "pop\n",
    "remove\n",
    "reverse\n",
    "sort\n"
   ]
  },
  {
   "cell_type": "code",
   "execution_count": 15,
   "id": "f14024e4",
   "metadata": {},
   "outputs": [
    {
     "data": {
      "text/plain": [
       "1"
      ]
     },
     "execution_count": 15,
     "metadata": {},
     "output_type": "execute_result"
    }
   ],
   "source": [
    "l1=['hello','how','are']\n",
    "l2=['you','sir']\n",
    "l3=l1.copy()\n",
    "l3\n",
    "l3.count('are')"
   ]
  },
  {
   "cell_type": "code",
   "execution_count": 22,
   "id": "f9003699",
   "metadata": {},
   "outputs": [],
   "source": [
    "l1.extend('1')"
   ]
  },
  {
   "cell_type": "code",
   "execution_count": 23,
   "id": "84a8b8c3",
   "metadata": {},
   "outputs": [
    {
     "data": {
      "text/plain": [
       "['hello', 'how', 'are', 'n', 'a', 'm', 'e', '1', '1']"
      ]
     },
     "execution_count": 23,
     "metadata": {},
     "output_type": "execute_result"
    }
   ],
   "source": [
    "l1"
   ]
  },
  {
   "cell_type": "code",
   "execution_count": 27,
   "id": "6e3701b6",
   "metadata": {},
   "outputs": [
    {
     "data": {
      "text/plain": [
       "7"
      ]
     },
     "execution_count": 27,
     "metadata": {},
     "output_type": "execute_result"
    }
   ],
   "source": [
    "l1.index('1')"
   ]
  },
  {
   "cell_type": "code",
   "execution_count": 32,
   "id": "39669c58",
   "metadata": {},
   "outputs": [
    {
     "data": {
      "text/plain": [
       "['hello',\n",
       " 'how',\n",
       " 'are',\n",
       " 'rohit',\n",
       " 'rohit',\n",
       " 'rohit',\n",
       " 'rohit',\n",
       " 'n',\n",
       " 'a',\n",
       " 'm',\n",
       " 'e',\n",
       " '1',\n",
       " '1']"
      ]
     },
     "execution_count": 32,
     "metadata": {},
     "output_type": "execute_result"
    }
   ],
   "source": [
    "l1.insert(3,'rohit')\n",
    "l1"
   ]
  },
  {
   "cell_type": "code",
   "execution_count": 38,
   "id": "08a32478",
   "metadata": {},
   "outputs": [
    {
     "data": {
      "text/plain": [
       "'how'"
      ]
     },
     "execution_count": 38,
     "metadata": {},
     "output_type": "execute_result"
    }
   ],
   "source": [
    "l1.pop(1)"
   ]
  },
  {
   "cell_type": "code",
   "execution_count": 39,
   "id": "8266d6ca",
   "metadata": {},
   "outputs": [
    {
     "data": {
      "text/plain": [
       "['hello', 'are', 'rohit', 'rohit', 'n', 'a', 'm', 'e', '1', '1']"
      ]
     },
     "execution_count": 39,
     "metadata": {},
     "output_type": "execute_result"
    }
   ],
   "source": [
    "l1"
   ]
  },
  {
   "cell_type": "code",
   "execution_count": 40,
   "id": "12a2b9b3",
   "metadata": {},
   "outputs": [
    {
     "data": {
      "text/plain": [
       "['hello', 'are', 'rohit', 'rohit', 'n', 'a', 'm', 'e', '1', '1']"
      ]
     },
     "execution_count": 40,
     "metadata": {},
     "output_type": "execute_result"
    }
   ],
   "source": [
    "l1"
   ]
  },
  {
   "cell_type": "code",
   "execution_count": 42,
   "id": "7242082f",
   "metadata": {},
   "outputs": [],
   "source": [
    "l1.reverse()"
   ]
  },
  {
   "cell_type": "code",
   "execution_count": 43,
   "id": "41fc6b71",
   "metadata": {},
   "outputs": [
    {
     "data": {
      "text/plain": [
       "['1', '1', 'e', 'm', 'a', 'n', 'rohit', 'rohit', 'are', 'hello']"
      ]
     },
     "execution_count": 43,
     "metadata": {},
     "output_type": "execute_result"
    }
   ],
   "source": [
    "l1"
   ]
  },
  {
   "cell_type": "code",
   "execution_count": 47,
   "id": "33a68c46",
   "metadata": {},
   "outputs": [],
   "source": [
    "l1.reverse()"
   ]
  },
  {
   "cell_type": "code",
   "execution_count": 48,
   "id": "11131e2c",
   "metadata": {},
   "outputs": [
    {
     "data": {
      "text/plain": [
       "['1', '1', 'e', 'm', 'a', 'n', 'rohit', 'rohit', 'are', 'hello']"
      ]
     },
     "execution_count": 48,
     "metadata": {},
     "output_type": "execute_result"
    }
   ],
   "source": [
    "l1"
   ]
  },
  {
   "cell_type": "code",
   "execution_count": 53,
   "id": "2a854ef8",
   "metadata": {},
   "outputs": [
    {
     "data": {
      "text/plain": [
       "['1', '1', 'a', 'are', 'e', 'hello', 'm', 'n', 'rohit', 'rohit']"
      ]
     },
     "execution_count": 53,
     "metadata": {},
     "output_type": "execute_result"
    }
   ],
   "source": [
    "l1.sort()\n",
    "l1"
   ]
  },
  {
   "cell_type": "code",
   "execution_count": 59,
   "id": "4e792b8b",
   "metadata": {},
   "outputs": [],
   "source": [
    "l1.remove('hello')"
   ]
  },
  {
   "cell_type": "code",
   "execution_count": 60,
   "id": "23237fe0",
   "metadata": {},
   "outputs": [
    {
     "data": {
      "text/plain": [
       "['1', '1', 'a', 'are', 'e', 'm', 'n']"
      ]
     },
     "execution_count": 60,
     "metadata": {},
     "output_type": "execute_result"
    }
   ],
   "source": [
    "l1"
   ]
  },
  {
   "cell_type": "code",
   "execution_count": 61,
   "id": "e5ae4e32",
   "metadata": {},
   "outputs": [],
   "source": [
    "l1.clear()"
   ]
  },
  {
   "cell_type": "code",
   "execution_count": 62,
   "id": "8dc5909b",
   "metadata": {},
   "outputs": [
    {
     "data": {
      "text/plain": [
       "[]"
      ]
     },
     "execution_count": 62,
     "metadata": {},
     "output_type": "execute_result"
    }
   ],
   "source": [
    "l1"
   ]
  },
  {
   "cell_type": "code",
   "execution_count": 63,
   "id": "14898480",
   "metadata": {},
   "outputs": [],
   "source": [
    "l1=l3.copy()"
   ]
  },
  {
   "cell_type": "code",
   "execution_count": 64,
   "id": "4ef8d1f3",
   "metadata": {},
   "outputs": [
    {
     "data": {
      "text/plain": [
       "['hello', 'how', 'are']"
      ]
     },
     "execution_count": 64,
     "metadata": {},
     "output_type": "execute_result"
    }
   ],
   "source": [
    "l1"
   ]
  },
  {
   "cell_type": "code",
   "execution_count": 67,
   "id": "0af3a968",
   "metadata": {},
   "outputs": [
    {
     "data": {
      "text/plain": [
       "1"
      ]
     },
     "execution_count": 67,
     "metadata": {},
     "output_type": "execute_result"
    }
   ],
   "source": [
    "l1.count('how')"
   ]
  },
  {
   "cell_type": "code",
   "execution_count": 68,
   "id": "8deaa42f",
   "metadata": {},
   "outputs": [],
   "source": [
    "l1.sort()"
   ]
  },
  {
   "cell_type": "code",
   "execution_count": 69,
   "id": "9cf65ec1",
   "metadata": {},
   "outputs": [
    {
     "data": {
      "text/plain": [
       "['are', 'hello', 'how']"
      ]
     },
     "execution_count": 69,
     "metadata": {},
     "output_type": "execute_result"
    }
   ],
   "source": [
    "l1"
   ]
  },
  {
   "cell_type": "code",
   "execution_count": 70,
   "id": "fd3051ee",
   "metadata": {},
   "outputs": [],
   "source": [
    "l1.reverse()"
   ]
  },
  {
   "cell_type": "code",
   "execution_count": 71,
   "id": "9c7050e5",
   "metadata": {},
   "outputs": [
    {
     "data": {
      "text/plain": [
       "['how', 'hello', 'are']"
      ]
     },
     "execution_count": 71,
     "metadata": {},
     "output_type": "execute_result"
    }
   ],
   "source": [
    "l1"
   ]
  },
  {
   "cell_type": "code",
   "execution_count": 72,
   "id": "89478196",
   "metadata": {},
   "outputs": [
    {
     "data": {
      "text/plain": [
       "[1, 2, 3, 100, 200, 80, 79, 60]"
      ]
     },
     "execution_count": 72,
     "metadata": {},
     "output_type": "execute_result"
    }
   ],
   "source": [
    "## Copy\n",
    "l1=[1,2,3,100,200,80,79,60]\n",
    "l2=l1.copy()\n",
    "l2"
   ]
  },
  {
   "cell_type": "code",
   "execution_count": 73,
   "id": "508de8bf",
   "metadata": {},
   "outputs": [],
   "source": [
    "## Clear\n",
    "l1.clear()"
   ]
  },
  {
   "cell_type": "code",
   "execution_count": 74,
   "id": "13be7299",
   "metadata": {},
   "outputs": [
    {
     "data": {
      "text/plain": [
       "[1, 2, 3, 100, 200, 80, 79, 60]"
      ]
     },
     "execution_count": 74,
     "metadata": {},
     "output_type": "execute_result"
    }
   ],
   "source": [
    "l2"
   ]
  },
  {
   "cell_type": "code",
   "execution_count": 75,
   "id": "a79fb560",
   "metadata": {},
   "outputs": [
    {
     "data": {
      "text/plain": [
       "[]"
      ]
     },
     "execution_count": 75,
     "metadata": {},
     "output_type": "execute_result"
    }
   ],
   "source": [
    "l1"
   ]
  },
  {
   "cell_type": "code",
   "execution_count": 76,
   "id": "8625a809",
   "metadata": {},
   "outputs": [
    {
     "name": "stdout",
     "output_type": "stream",
     "text": [
      "<class 'list'>\n"
     ]
    }
   ],
   "source": [
    "print(type([]))"
   ]
  },
  {
   "cell_type": "code",
   "execution_count": 80,
   "id": "7a355bf7",
   "metadata": {},
   "outputs": [
    {
     "name": "stdout",
     "output_type": "stream",
     "text": [
      "[1, 2, 3, 4, ['A', 'B', 'C', 'D']]\n",
      "['A', 'B', 'C', 'D']\n"
     ]
    }
   ],
   "source": [
    "l1=[1,2,3,4]\n",
    "l2=['A','B','C','D']\n",
    "l1.append(l2)\n",
    "print(l1)\n",
    "print(l2)"
   ]
  },
  {
   "cell_type": "code",
   "execution_count": 78,
   "id": "44b09f4c",
   "metadata": {},
   "outputs": [
    {
     "name": "stdout",
     "output_type": "stream",
     "text": [
      "[1, 2, 3, 4, 'A', 'B', 'C', 'D']\n",
      "['A', 'B', 'C', 'D']\n"
     ]
    }
   ],
   "source": [
    "l1=[1,2,3,4]\n",
    "l2=['A','B','C','D']\n",
    "l1.extend(l2)\n",
    "print(l1)\n",
    "print(l2)"
   ]
  },
  {
   "cell_type": "code",
   "execution_count": 83,
   "id": "e22d3b23",
   "metadata": {},
   "outputs": [
    {
     "name": "stdout",
     "output_type": "stream",
     "text": [
      "[1, 2, 3, 4, 'A', 'B', 'C', 'D', 1, 2, 3, 4]\n",
      "['A', 'B', 'C', 'D', 1, 2, 3, 4, 1, 2, 3, 4]\n",
      "[1, 2, 3, 4]\n",
      "['A', 'B', 'C', 'D', 1, 2, 3, 4]\n"
     ]
    }
   ],
   "source": [
    "## extend basically overwrite and store the value in first list\n",
    "## concatinate is different and will not overwrite\n",
    "## append add the contect only not the values\n",
    "l1=[1,2,3,4]\n",
    "l2=['A','B','C','D']\n",
    "l2.extend(l1)\n",
    "print(l1+l2)\n",
    "print(l2+l1)\n",
    "print(l1)\n",
    "print(l2)"
   ]
  },
  {
   "cell_type": "code",
   "execution_count": 87,
   "id": "aec15fbe",
   "metadata": {},
   "outputs": [
    {
     "data": {
      "text/plain": [
       "[1, 2, 3, 4, 'a', 'p', 'p', 'l', 'e']"
      ]
     },
     "execution_count": 87,
     "metadata": {},
     "output_type": "execute_result"
    }
   ],
   "source": [
    "## extend is iterable\n",
    "l1=[1,2,3,4]\n",
    "l1.extend('apple')\n",
    "l1"
   ]
  },
  {
   "cell_type": "code",
   "execution_count": 91,
   "id": "4f93559e",
   "metadata": {},
   "outputs": [
    {
     "data": {
      "text/plain": [
       "[1, 2, 3, 4, 10, 20, 30, 40]"
      ]
     },
     "execution_count": 91,
     "metadata": {},
     "output_type": "execute_result"
    }
   ],
   "source": [
    "## extend is iterable\n",
    "l1=[1,2,3,4]\n",
    "l1.extend((10,20,30,40))\n",
    "l1"
   ]
  },
  {
   "cell_type": "markdown",
   "id": "ea8f4c80",
   "metadata": {},
   "source": [
    "- append just append the value with base data type\n",
    "\n",
    "- extend is conatenatte the vlaue , and the list will be overwrite with new values\n",
    "\n",
    "- extend can take any iterabel format type i.e. string,list,valuse\n",
    "\n",
    "- extend and contatenation both are same\n",
    "\n",
    "- the list will not overwrite in concatination\n",
    "\n"
   ]
  },
  {
   "cell_type": "markdown",
   "id": "69687edd",
   "metadata": {},
   "source": [
    "**index**\n",
    "\n",
    "- same like string only"
   ]
  },
  {
   "cell_type": "code",
   "execution_count": 105,
   "id": "f7b7c5d5",
   "metadata": {},
   "outputs": [
    {
     "name": "stdout",
     "output_type": "stream",
     "text": [
      "4\n",
      "6\n",
      "4\n"
     ]
    }
   ],
   "source": [
    "l1=[1,2,3,4,'apple',10,'apple',20,30]\n",
    "l1.index('apple')\n",
    "i1=l1.index('apple')\n",
    "i2=l1.index('apple',i1+1)\n",
    "i3=l1.index('apple',2,8)\n",
    "print(i1)\n",
    "print(i2)\n",
    "print(i3)"
   ]
  },
  {
   "cell_type": "markdown",
   "id": "61782b3e",
   "metadata": {},
   "source": [
    "   # Insert\n",
    "   \n",
    "   - will insert the element based on index\n",
    "   - append will add the element at the last only"
   ]
  },
  {
   "cell_type": "code",
   "execution_count": 117,
   "id": "2211b34d",
   "metadata": {},
   "outputs": [
    {
     "name": "stdout",
     "output_type": "stream",
     "text": [
      "4\n",
      "8\n"
     ]
    },
    {
     "data": {
      "text/plain": [
       "[1, 2, 3, 4, 'apple', 10, 'apple', 20, 'Cherry', 30]"
      ]
     },
     "execution_count": 117,
     "metadata": {},
     "output_type": "execute_result"
    }
   ],
   "source": [
    "l1=[1,2,3,4,'apple',10,'apple',20,30]\n",
    "l1\n",
    "i1=l1.index('apple')  # apple index =4\n",
    "print(i1)\n",
    "i2=l1.index(30)\n",
    "print(i2)\n",
    "l1.insert(i2,'Cherry')\n",
    "l1"
   ]
  },
  {
   "cell_type": "code",
   "execution_count": 133,
   "id": "5f3cedb7",
   "metadata": {},
   "outputs": [
    {
     "name": "stdout",
     "output_type": "stream",
     "text": [
      "4\n",
      "7\n"
     ]
    },
    {
     "data": {
      "text/plain": [
       "[1, 2, 3, 4, 'apple', 10, 11, 'patato', 'apple', 20, 30]"
      ]
     },
     "execution_count": 133,
     "metadata": {},
     "output_type": "execute_result"
    }
   ],
   "source": [
    "l1=[1,2,3,4,'apple',10,11,'apple',20,30]  # insert 'cherry' after second apple\n",
    "#step 1 - we want to find index of 2nd apple\n",
    "#step 2 - how to find the second 'apple' index\n",
    "i1=l1.index('apple')\n",
    "print(i1)\n",
    "i2=l1.index('apple',i1+1)\n",
    "print(i2)\n",
    "l1.insert(i2,'patato')\n",
    "l1"
   ]
  },
  {
   "cell_type": "markdown",
   "id": "96355ae9",
   "metadata": {},
   "source": [
    "# pop\n",
    "\n",
    "- pop will remove the item\n",
    "\n",
    "- pop also display the item which is removing \n",
    "\n",
    "- pop will take one argument:index\n",
    "\n",
    "- pop will remove the item based on index\n",
    "\n",
    "- if you don't provide any idnex, by default it will remove last value\n",
    "\n",
    "- because the default index value is -1\n",
    "\n"
   ]
  },
  {
   "cell_type": "code",
   "execution_count": 147,
   "id": "ea5f0d07",
   "metadata": {},
   "outputs": [
    {
     "data": {
      "text/plain": [
       "[1, 2, 3, 10, 20, 'apple', 40]"
      ]
     },
     "execution_count": 147,
     "metadata": {},
     "output_type": "execute_result"
    }
   ],
   "source": [
    "# remove 1st apple\n",
    "l1=[1,2,3,'apple',10,20,'apple',40]\n",
    "i1=l1.index('apple')\n",
    "l1.pop(i1)\n",
    "l1\n"
   ]
  },
  {
   "cell_type": "code",
   "execution_count": 151,
   "id": "3456c5ec",
   "metadata": {},
   "outputs": [
    {
     "name": "stdout",
     "output_type": "stream",
     "text": [
      "6\n"
     ]
    },
    {
     "data": {
      "text/plain": [
       "[1, 2, 3, 'apple', 10, 20, 40]"
      ]
     },
     "execution_count": 151,
     "metadata": {},
     "output_type": "execute_result"
    }
   ],
   "source": [
    "#remove 2nd apple\n",
    "l1=[1,2,3,'apple',10,20,'apple',40]\n",
    "i1=l1.index('apple')\n",
    "i2=l1.index('apple',i1+1)\n",
    "print(i2)\n",
    "l1.pop(i2)\n",
    "l1"
   ]
  },
  {
   "cell_type": "code",
   "execution_count": 155,
   "id": "d96340f8",
   "metadata": {},
   "outputs": [
    {
     "data": {
      "text/plain": [
       "[1, 2, 3, 10, 20, 40]"
      ]
     },
     "execution_count": 155,
     "metadata": {},
     "output_type": "execute_result"
    }
   ],
   "source": [
    "#remove both apple same time\n",
    "l1=[1,2,3,'apple',10,20,'apple',40]\n",
    "i1=l1.index('apple')\n",
    "l1.pop(i1)\n",
    "i1=l1.index('apple')\n",
    "l1.pop(i1)\n",
    "l1"
   ]
  },
  {
   "cell_type": "code",
   "execution_count": 186,
   "id": "b0add38c",
   "metadata": {},
   "outputs": [
    {
     "data": {
      "text/plain": [
       "'hai how are you i am good thank you'"
      ]
     },
     "execution_count": 186,
     "metadata": {},
     "output_type": "execute_result"
    }
   ],
   "source": [
    "#remove all apple in one round\n",
    "str1='hai apple how are you apple i am good apple thank you apple'\n",
    "l1=str1.split()\n",
    "count=l1.count('apple')\n",
    "for i in range(count):\n",
    "    i1=l1.index('apple')\n",
    "    l1.pop(i1)\n",
    "' '.join(l1)\n",
    "\n",
    "\n",
    "\n",
    "\n"
   ]
  },
  {
   "cell_type": "markdown",
   "id": "1c6ec0f4",
   "metadata": {},
   "source": [
    "# Remove"
   ]
  },
  {
   "cell_type": "code",
   "execution_count": 180,
   "id": "9ddc8105",
   "metadata": {},
   "outputs": [
    {
     "data": {
      "text/plain": [
       "[1, 2, 3, 10, 20, 40]"
      ]
     },
     "execution_count": 180,
     "metadata": {},
     "output_type": "execute_result"
    }
   ],
   "source": [
    "## Remove\n",
    "\n",
    "# pop will take index\n",
    "# remvoe will take value\n",
    "\n",
    "l1=[1,2,3,'apple',10,20,'apple',40]\n",
    "l1.remove('apple')\n",
    "l1.remove('apple')\n",
    "l1"
   ]
  },
  {
   "cell_type": "code",
   "execution_count": 184,
   "id": "3c485697",
   "metadata": {},
   "outputs": [
    {
     "data": {
      "text/plain": [
       "'hai how are you i am good thank you'"
      ]
     },
     "execution_count": 184,
     "metadata": {},
     "output_type": "execute_result"
    }
   ],
   "source": [
    "#remove all apple in one round with remove\n",
    "\n",
    "str1='hai apple how are you apple i am good apple thank you apple'\n",
    "l1=str1.split()\n",
    "count=l1.count('apple')\n",
    "for i in range(count):\n",
    "    l1.remove('apple')\n",
    "' '.join(l1)"
   ]
  },
  {
   "cell_type": "markdown",
   "id": "278fc945",
   "metadata": {},
   "source": [
    "# Del"
   ]
  },
  {
   "cell_type": "code",
   "execution_count": 185,
   "id": "c055135e",
   "metadata": {},
   "outputs": [
    {
     "data": {
      "text/plain": [
       "[1, 2, 3, 10, 20, 'apple', 40]"
      ]
     },
     "execution_count": 185,
     "metadata": {},
     "output_type": "execute_result"
    }
   ],
   "source": [
    "l1=[1,2,3,'apple',10,20,'apple',40]\n",
    "del(l1[3])\n",
    "l1"
   ]
  },
  {
   "cell_type": "markdown",
   "id": "2eda48c9",
   "metadata": {},
   "source": [
    "## Method available in List and String\n",
    "\n",
    "- append / extend / insert / contactenation\n",
    "\n",
    "- pop/remove/del\n",
    "\n",
    "- sort/sorted\n",
    "\n",
    "-reverse/reversed\n",
    "\n",
    "- count and index\n"
   ]
  },
  {
   "cell_type": "markdown",
   "id": "023f4f78",
   "metadata": {},
   "source": [
    "## These all methods we need to pratice with Tuple\n",
    "\n",
    "- representation\n",
    "\n",
    "- type\n",
    "\n",
    "- len\n",
    "\n",
    "- max\n",
    "\n",
    "- min\n",
    "\n",
    "- sum\n",
    "\n",
    "- sorted\n",
    "\n",
    "- reversed\n",
    "\n",
    "- in\n",
    "\n",
    "- for loop with in\n",
    "\n",
    "- index\n",
    "\n",
    "- for loop with index\n",
    "\n",
    "- mutable and immutable\n",
    "\n",
    "- slicing\n",
    "\n",
    "- contatination\n",
    "\n",
    "- Methods\n",
    "\n"
   ]
  },
  {
   "cell_type": "code",
   "execution_count": null,
   "id": "6573ecab",
   "metadata": {},
   "outputs": [],
   "source": []
  }
 ],
 "metadata": {
  "kernelspec": {
   "display_name": "Python 3",
   "language": "python",
   "name": "python3"
  },
  "language_info": {
   "codemirror_mode": {
    "name": "ipython",
    "version": 3
   },
   "file_extension": ".py",
   "mimetype": "text/x-python",
   "name": "python",
   "nbconvert_exporter": "python",
   "pygments_lexer": "ipython3",
   "version": "3.8.8"
  }
 },
 "nbformat": 4,
 "nbformat_minor": 5
}
