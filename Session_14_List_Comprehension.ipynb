{
 "cells": [
  {
   "cell_type": "markdown",
   "id": "b8bb75a0",
   "metadata": {},
   "source": [
    "- We can store the output values by using append operations\n",
    "\n",
    "- We are taking empty list\n",
    "\n",
    "- We are iterating through elements from a given list\n",
    "\n",
    "- the result we are appending in a new list"
   ]
  },
  {
   "cell_type": "code",
   "execution_count": 4,
   "id": "dad1d732",
   "metadata": {},
   "outputs": [
    {
     "data": {
      "text/plain": [
       "[0, 1, 4, 9, 16, 25, 36, 49, 64, 81]"
      ]
     },
     "execution_count": 4,
     "metadata": {},
     "output_type": "execute_result"
    }
   ],
   "source": [
    "square_list=[]\n",
    "for i in range(10):\n",
    "    square_list.append(i*i)\n",
    "square_list"
   ]
  },
  {
   "cell_type": "markdown",
   "id": "87e11b69",
   "metadata": {},
   "source": [
    "- There are almost 3 lines are in the process\n",
    "\n",
    "- The 3 lines we can make into a single line\n",
    "\n",
    "- This is calles as LIST COMPREHENSION"
   ]
  },
  {
   "cell_type": "markdown",
   "id": "20781c96",
   "metadata": {},
   "source": [
    "$pattern-1$\n",
    "\n",
    "**Only for loop"
   ]
  },
  {
   "cell_type": "code",
   "execution_count": null,
   "id": "66bd88b0",
   "metadata": {},
   "outputs": [],
   "source": [
    "#Syntax\n",
    "#[<output>  <for loop>]"
   ]
  },
  {
   "cell_type": "code",
   "execution_count": 9,
   "id": "e0926369",
   "metadata": {},
   "outputs": [
    {
     "data": {
      "text/plain": [
       "[0, 1, 4, 9, 16, 25, 36, 49, 64, 81]"
      ]
     },
     "execution_count": 9,
     "metadata": {},
     "output_type": "execute_result"
    }
   ],
   "source": [
    "square_list=[]\n",
    "for i in range(10):\n",
    "    square_list.append(i*i)\n",
    "square_list\n",
    "\n",
    "# Small part, how to make program short\n",
    "# Q1) What is the output ? i*i\n",
    "# Q2) What is the output list name? sqare_list\n",
    "# Q3) what isthe for loop?   for in in range(10)\n",
    "#[<output>. <for loop>]\n",
    "\n",
    "sq_list=[i*i for i in range(10)]\n",
    "sq_list"
   ]
  },
  {
   "cell_type": "code",
   "execution_count": 16,
   "id": "e37b1763",
   "metadata": {},
   "outputs": [
    {
     "data": {
      "text/plain": [
       "['HYD', 'MUMBAI', 'CHENNAI', 'BLR']"
      ]
     },
     "execution_count": 16,
     "metadata": {},
     "output_type": "execute_result"
    }
   ],
   "source": [
    "l1=['hyd','mumbai','chennai','blr']\n",
    "#output upper case\n",
    "upper_list=[]\n",
    "for i in l1:\n",
    "    upper_list.append(i.upper())\n",
    "upper_list"
   ]
  },
  {
   "cell_type": "code",
   "execution_count": null,
   "id": "49f7172e",
   "metadata": {},
   "outputs": [],
   "source": [
    "l2=['HYD', 'MUMBAI', 'CHENNAI', 'BLR']\n",
    "#lower_list=[]\n",
    "#for i in l2:\n",
    "#    lower_list.append(i.lower())\n",
    "#lower_list \n",
    "\n",
    "low_list=[i.lower(i) for i in l2]\n",
    "low_list"
   ]
  },
  {
   "cell_type": "code",
   "execution_count": null,
   "id": "8ca7a0cf",
   "metadata": {},
   "outputs": [],
   "source": [
    "#Q4) sum of the indexes of all elements\n",
    "\n",
    "l2=['Hyd','Mumbai','Chennai','Blr']\n",
    "sum_list=[]\n",
    "for i in l2:\n",
    "    sum_list.append(l2.index(i))\n",
    "sum(sum_list)\n"
   ]
  },
  {
   "cell_type": "code",
   "execution_count": 31,
   "id": "4a284661",
   "metadata": {},
   "outputs": [
    {
     "data": {
      "text/plain": [
       "6"
      ]
     },
     "execution_count": 31,
     "metadata": {},
     "output_type": "execute_result"
    }
   ],
   "source": [
    "## Comprehension approach\n",
    "\n",
    "l2=['Hyd','Mumbai','Chennai','Blr']\n",
    "idx_list=[l2.index(i) for i in l2]\n",
    "sum(idx_list)"
   ]
  },
  {
   "cell_type": "markdown",
   "id": "6bbc101d",
   "metadata": {},
   "source": [
    "- Making empth list will not work in List comperehension\n",
    "\n",
    "- initialization will not work in List comprehension\n",
    "\n",
    "- assignment operations also not work"
   ]
  },
  {
   "cell_type": "markdown",
   "id": "8c8d3b32",
   "metadata": {},
   "source": [
    "$pattern-2$\n",
    "\n",
    "**for loop - if condition"
   ]
  },
  {
   "cell_type": "code",
   "execution_count": null,
   "id": "8956ad07",
   "metadata": {},
   "outputs": [],
   "source": [
    "# syntax\n",
    "\n",
    "#[<output>  <for loop>. <if condition>]"
   ]
  },
  {
   "cell_type": "code",
   "execution_count": null,
   "id": "51181866",
   "metadata": {},
   "outputs": [],
   "source": [
    "l1=['Hyd','Mumbai','Chennai','Blr']\n",
    "for i in l1:\n",
    "    if len(i)>4:\n",
    "        print(i)"
   ]
  },
  {
   "cell_type": "code",
   "execution_count": 35,
   "id": "52a52546",
   "metadata": {},
   "outputs": [
    {
     "data": {
      "text/plain": [
       "['Mumbai', 'Chennai']"
      ]
     },
     "execution_count": 35,
     "metadata": {},
     "output_type": "execute_result"
    }
   ],
   "source": [
    "l1=['Hyd','Mumbai','Chennai','Blr']\n",
    "op=[i for i in l1 if len(i)>4]\n",
    "op"
   ]
  },
  {
   "cell_type": "code",
   "execution_count": null,
   "id": "371fede9",
   "metadata": {},
   "outputs": [],
   "source": [
    "l1=['Hyd','Mum#bai','Chen#nai','blr']\n",
    "chek_list=[]\n",
    "for i in l1:\n",
    "    if l1[i]=='#':\n",
    "        chek_list.append(i)\n",
    "    \n",
    "chek_list"
   ]
  },
  {
   "cell_type": "code",
   "execution_count": 3,
   "id": "f6a39d78",
   "metadata": {},
   "outputs": [
    {
     "ename": "IndentationError",
     "evalue": "expected an indented block (<ipython-input-3-93d69e891b6d>, line 5)",
     "output_type": "error",
     "traceback": [
      "\u001b[0;36m  File \u001b[0;32m\"<ipython-input-3-93d69e891b6d>\"\u001b[0;36m, line \u001b[0;32m5\u001b[0m\n\u001b[0;31m    op.append(i)\u001b[0m\n\u001b[0m    ^\u001b[0m\n\u001b[0;31mIndentationError\u001b[0m\u001b[0;31m:\u001b[0m expected an indented block\n"
     ]
    }
   ],
   "source": [
    "l1=['Hyd','Mum#bai','Chen#nai','blr']\n",
    "op=[]\n",
    "for i in l1:\n",
    "    if '#' in i:\n",
    "    op.append(i)\n",
    "op"
   ]
  },
  {
   "cell_type": "code",
   "execution_count": 8,
   "id": "8b120e1d",
   "metadata": {},
   "outputs": [
    {
     "data": {
      "text/plain": [
       "['Mum#bai', 'Chen#nai']"
      ]
     },
     "execution_count": 8,
     "metadata": {},
     "output_type": "execute_result"
    }
   ],
   "source": [
    "# where we have # in list\n",
    "l1=['Hyd','Mum#bai','Chen#nai','blr']\n",
    "op_hash=[i for i in l1 if '#' in i]\n",
    "op_hash"
   ]
  },
  {
   "cell_type": "code",
   "execution_count": 9,
   "id": "57588175",
   "metadata": {},
   "outputs": [
    {
     "data": {
      "text/plain": [
       "['Hyd', 'blr']"
      ]
     },
     "execution_count": 9,
     "metadata": {},
     "output_type": "execute_result"
    }
   ],
   "source": [
    "# where we have not # in list\n",
    "l1=['Hyd','Mum#bai','Chen#nai','blr']\n",
    "op_hash=[i for i in l1 if '#' not in i]\n",
    "op_hash"
   ]
  },
  {
   "cell_type": "code",
   "execution_count": 15,
   "id": "e74a2ade",
   "metadata": {},
   "outputs": [
    {
     "ename": "AttributeError",
     "evalue": "'tuple' object has no attribute 'split'",
     "output_type": "error",
     "traceback": [
      "\u001b[0;31m---------------------------------------------------------------------------\u001b[0m",
      "\u001b[0;31mAttributeError\u001b[0m                            Traceback (most recent call last)",
      "\u001b[0;32m<ipython-input-15-2c6760c03755>\u001b[0m in \u001b[0;36m<module>\u001b[0;34m\u001b[0m\n\u001b[1;32m      1\u001b[0m \u001b[0mstr1\u001b[0m\u001b[0;34m=\u001b[0m\u001b[0;34m'virat.kohli@rcg.com'\u001b[0m\u001b[0;34m,\u001b[0m\u001b[0;34m'rohit.sharma@mi.co'\u001b[0m\u001b[0;34m,\u001b[0m\u001b[0;34m'kl.rahul@luc.com'\u001b[0m\u001b[0;34m\u001b[0m\u001b[0;34m\u001b[0m\u001b[0m\n\u001b[0;32m----> 2\u001b[0;31m \u001b[0mlist1\u001b[0m\u001b[0;34m=\u001b[0m\u001b[0mstr1\u001b[0m\u001b[0;34m.\u001b[0m\u001b[0msplit\u001b[0m\u001b[0;34m(\u001b[0m\u001b[0;34m','\u001b[0m\u001b[0;34m)\u001b[0m\u001b[0;34m\u001b[0m\u001b[0;34m\u001b[0m\u001b[0m\n\u001b[0m\u001b[1;32m      3\u001b[0m \u001b[0mlist1\u001b[0m\u001b[0;34m[\u001b[0m\u001b[0;36m0\u001b[0m\u001b[0;34m]\u001b[0m\u001b[0;34m[\u001b[0m\u001b[0;34m:\u001b[0m\u001b[0mlist1\u001b[0m\u001b[0;34m[\u001b[0m\u001b[0;36m0\u001b[0m\u001b[0;34m]\u001b[0m\u001b[0;34m.\u001b[0m\u001b[0mindex\u001b[0m\u001b[0;34m(\u001b[0m\u001b[0;34m'.'\u001b[0m\u001b[0;34m)\u001b[0m\u001b[0;34m]\u001b[0m\u001b[0;34m\u001b[0m\u001b[0;34m\u001b[0m\u001b[0m\n\u001b[1;32m      4\u001b[0m \u001b[0mlist1\u001b[0m\u001b[0;34m[\u001b[0m\u001b[0;36m1\u001b[0m\u001b[0;34m]\u001b[0m\u001b[0;34m[\u001b[0m\u001b[0;34m:\u001b[0m\u001b[0mlist1\u001b[0m\u001b[0;34m[\u001b[0m\u001b[0;36m1\u001b[0m\u001b[0;34m]\u001b[0m\u001b[0;34m.\u001b[0m\u001b[0mindex\u001b[0m\u001b[0;34m(\u001b[0m\u001b[0;34m'.'\u001b[0m\u001b[0;34m)\u001b[0m\u001b[0;34m]\u001b[0m\u001b[0;34m\u001b[0m\u001b[0;34m\u001b[0m\u001b[0m\n\u001b[1;32m      5\u001b[0m \u001b[0mlist1\u001b[0m\u001b[0;34m[\u001b[0m\u001b[0;36m2\u001b[0m\u001b[0;34m]\u001b[0m\u001b[0;34m[\u001b[0m\u001b[0;34m:\u001b[0m\u001b[0mlist1\u001b[0m\u001b[0;34m[\u001b[0m\u001b[0;36m2\u001b[0m\u001b[0;34m]\u001b[0m\u001b[0;34m.\u001b[0m\u001b[0mindex\u001b[0m\u001b[0;34m(\u001b[0m\u001b[0;34m','\u001b[0m\u001b[0;34m)\u001b[0m\u001b[0;34m]\u001b[0m\u001b[0;34m\u001b[0m\u001b[0;34m\u001b[0m\u001b[0m\n",
      "\u001b[0;31mAttributeError\u001b[0m: 'tuple' object has no attribute 'split'"
     ]
    }
   ],
   "source": [
    "str1='virat.kohli@rcg.com','rohit.sharma@mi.co','kl.rahul@luc.com'\n",
    "list1=str1.split(',')\n",
    "list1[0][:list1[0].index('.')]\n",
    "list1[1][:list1[1].index('.')]\n",
    "list1[2][:list1[2].index(',')]\n",
    "\n",
    "for i in list1:\n",
    "    f_name.append(i[:i.index('.')])\n",
    "f_name"
   ]
  },
  {
   "cell_type": "code",
   "execution_count": 18,
   "id": "b24173ba",
   "metadata": {},
   "outputs": [
    {
     "data": {
      "text/plain": [
       "[0, 1, 4, 9, 16, 25, 36, 49, 64, 81]"
      ]
     },
     "execution_count": 18,
     "metadata": {},
     "output_type": "execute_result"
    }
   ],
   "source": [
    "sq_list=[i*i for i in range(10)]\n",
    "sq_list"
   ]
  },
  {
   "cell_type": "code",
   "execution_count": 25,
   "id": "80639a76",
   "metadata": {},
   "outputs": [
    {
     "data": {
      "text/plain": [
       "['HYD', 'MUMBAI', 'CHENNAI', 'BLR']"
      ]
     },
     "execution_count": 25,
     "metadata": {},
     "output_type": "execute_result"
    }
   ],
   "source": [
    "#change to upper case\n",
    "l1=['hyd','mumbai','chennai','blr']\n",
    "up_list=[]\n",
    "for i in l1:\n",
    "    up_list.append(i.upper())\n",
    "up_list"
   ]
  },
  {
   "cell_type": "code",
   "execution_count": 28,
   "id": "c0897d6e",
   "metadata": {},
   "outputs": [
    {
     "data": {
      "text/plain": [
       "['HYD', 'MUMBAI', 'CHENNAI', 'BLR']"
      ]
     },
     "execution_count": 28,
     "metadata": {},
     "output_type": "execute_result"
    }
   ],
   "source": [
    "up_list=[i.upper() for i in l1]\n",
    "up_list"
   ]
  },
  {
   "cell_type": "code",
   "execution_count": 30,
   "id": "4d193357",
   "metadata": {},
   "outputs": [
    {
     "data": {
      "text/plain": [
       "['hyd', 'mumbai', 'chennai', 'blr']"
      ]
     },
     "execution_count": 30,
     "metadata": {},
     "output_type": "execute_result"
    }
   ],
   "source": [
    "low_list=[i.lower() for i in l1]\n",
    "low_list"
   ]
  },
  {
   "cell_type": "code",
   "execution_count": 44,
   "id": "84b4775c",
   "metadata": {},
   "outputs": [
    {
     "data": {
      "text/plain": [
       "6"
      ]
     },
     "execution_count": 44,
     "metadata": {},
     "output_type": "execute_result"
    }
   ],
   "source": [
    "idx=[l1.index(i) for i in l1]\n",
    "sum(idx)"
   ]
  },
  {
   "cell_type": "code",
   "execution_count": 52,
   "id": "49d6ac5f",
   "metadata": {},
   "outputs": [
    {
     "name": "stdout",
     "output_type": "stream",
     "text": [
      "Mum#bai\n",
      "Che#nnai\n"
     ]
    }
   ],
   "source": [
    "#print if length is greater than 4\n",
    "l1=['hyd','Mum#bai','Che#nnai','blr']\n",
    "list_leng=[]\n",
    "for i in l1:\n",
    "    if len(i)>4:\n",
    "        print(i)\n",
    "\n",
    "         "
   ]
  },
  {
   "cell_type": "code",
   "execution_count": 53,
   "id": "5de4492b",
   "metadata": {},
   "outputs": [
    {
     "data": {
      "text/plain": [
       "['Mum#bai', 'Che#nnai']"
      ]
     },
     "execution_count": 53,
     "metadata": {},
     "output_type": "execute_result"
    }
   ],
   "source": [
    "[i for i in l1 if len(i)>4]"
   ]
  },
  {
   "cell_type": "code",
   "execution_count": 88,
   "id": "58ba8929",
   "metadata": {},
   "outputs": [
    {
     "name": "stdout",
     "output_type": "stream",
     "text": [
      "Mum#bai\n",
      "che#nnai\n"
     ]
    }
   ],
   "source": [
    "l1=['hyd','Mum#bai','che#nnai','blr']\n",
    "for i in l1:\n",
    "    if '#' in i:\n",
    "        print(i)\n",
    "\n",
    "#[i for i in l1 if l1.index(i)=='#']"
   ]
  },
  {
   "cell_type": "code",
   "execution_count": 84,
   "id": "019b71b1",
   "metadata": {},
   "outputs": [
    {
     "data": {
      "text/plain": [
       "['Mum#bai', 'Che#nnai']"
      ]
     },
     "execution_count": 84,
     "metadata": {},
     "output_type": "execute_result"
    }
   ],
   "source": [
    "[i for i in l1 if '#' in i]"
   ]
  },
  {
   "cell_type": "code",
   "execution_count": 85,
   "id": "2cd55277",
   "metadata": {},
   "outputs": [
    {
     "data": {
      "text/plain": [
       "['hyd', 'blr']"
      ]
     },
     "execution_count": 85,
     "metadata": {},
     "output_type": "execute_result"
    }
   ],
   "source": [
    "[i for i in l1 if '#' not in i]"
   ]
  },
  {
   "cell_type": "code",
   "execution_count": 90,
   "id": "c30ee6cd",
   "metadata": {},
   "outputs": [
    {
     "data": {
      "text/plain": [
       "['Mumbai']"
      ]
     },
     "execution_count": 90,
     "metadata": {},
     "output_type": "execute_result"
    }
   ],
   "source": [
    "# check if any element start with title\n",
    "l1=['hyd','Mumbai','chennai','blr']\n",
    "[i for i in l1 if i.istitle()]"
   ]
  },
  {
   "cell_type": "code",
   "execution_count": 124,
   "id": "763086d0",
   "metadata": {},
   "outputs": [
    {
     "data": {
      "text/plain": [
       "['virat', 'rohit', 'kl']"
      ]
     },
     "execution_count": 124,
     "metadata": {},
     "output_type": "execute_result"
    }
   ],
   "source": [
    "str1='virat.kohli@rcg.com,rohit.sharma@mi.co,kl.rahul@luc.com'\n",
    "list1=str1.split(',')\n",
    "list1[0][:list1[0].index('.')]\n",
    "list1[1][:list1[1].index('.')]\n",
    "list1[2][:list1[2].index('.')]\n",
    "\n",
    "f_name=[]\n",
    "for i in list1:\n",
    "    f_name.append(i[:i.index('.')])\n",
    "f_name\n",
    "\n",
    "s_name=[]\n",
    "for i in list1:\n",
    "    s_name.append(i[:i.index('.')])\n",
    "s_name"
   ]
  },
  {
   "cell_type": "code",
   "execution_count": 104,
   "id": "ffb0ca68",
   "metadata": {},
   "outputs": [
    {
     "data": {
      "text/plain": [
       "5"
      ]
     },
     "execution_count": 104,
     "metadata": {},
     "output_type": "execute_result"
    }
   ],
   "source": [
    "list1[0].index('.')"
   ]
  },
  {
   "cell_type": "code",
   "execution_count": 118,
   "id": "3ee822f2",
   "metadata": {},
   "outputs": [
    {
     "name": "stdout",
     "output_type": "stream",
     "text": [
      "virat\n",
      "rohit\n",
      "kl\n"
     ]
    }
   ],
   "source": [
    "for i in list1:\n",
    "    print(i[:i.index('.')])\n",
    "    "
   ]
  },
  {
   "cell_type": "code",
   "execution_count": 139,
   "id": "3ce23983",
   "metadata": {},
   "outputs": [
    {
     "name": "stdout",
     "output_type": "stream",
     "text": [
      "First name of all the players : \" ['virat', 'rohit', 'kl']\n",
      "Last name of all the players : \" ['kohli', 'sharma', 'rahul']\n",
      "Company of all the palyers : \" ['rcg.com', 'mi.co', 'luc.com']\n"
     ]
    }
   ],
   "source": [
    "fname=[(i[:i.index('.')]) for i in list1]\n",
    "lname=[i[i.index('.')+1:i.index('@')] for i in list1]\n",
    "cname=[i[i.index('@')+1:] for i in list1]\n",
    "print(f'First name of all the players : \" {fname}')\n",
    "print(f'Last name of all the players : \" {lname}')\n",
    "print(f'Company of all the palyers : \" {cname}')"
   ]
  },
  {
   "cell_type": "code",
   "execution_count": 146,
   "id": "1fd01a60",
   "metadata": {},
   "outputs": [
    {
     "data": {
      "text/plain": [
       "[0, 2, 4, 6, 8, 10, 12, 14, 16, 18]"
      ]
     },
     "execution_count": 146,
     "metadata": {},
     "output_type": "execute_result"
    }
   ],
   "source": [
    "#table of 2\n",
    "\n",
    "l1=[i*2 for i in range(10)]\n",
    "l1"
   ]
  },
  {
   "cell_type": "markdown",
   "id": "9a368f7e",
   "metadata": {},
   "source": [
    "# 3 patterns:\n",
    "[<output>  <for loop>]  : for loop\n",
    "[<output>  <for loop> <if condition>]      : for loop else\n",
    "[<if_output> <if> <else> <else_output> <for>]      :if-else"
   ]
  },
  {
   "cell_type": "markdown",
   "id": "f3558ca6",
   "metadata": {},
   "source": [
    "$Pattern-3$\n",
    "**if-else"
   ]
  },
  {
   "cell_type": "markdown",
   "id": "2ab6b5a4",
   "metadata": {},
   "source": [
    "** even-odd"
   ]
  },
  {
   "cell_type": "code",
   "execution_count": 162,
   "id": "ddb4fe39",
   "metadata": {},
   "outputs": [
    {
     "data": {
      "text/plain": [
       "['odd:1',\n",
       " 'even:2',\n",
       " 'odd:3',\n",
       " 'even:4',\n",
       " 'odd:5',\n",
       " 'even:6',\n",
       " 'odd:7',\n",
       " 'even:8',\n",
       " 'odd:9',\n",
       " 'even:10',\n",
       " 'odd:11',\n",
       " 'even:12',\n",
       " 'odd:13',\n",
       " 'even:14',\n",
       " 'odd:15',\n",
       " 'even:16',\n",
       " 'odd:17',\n",
       " 'even:18',\n",
       " 'odd:19']"
      ]
     },
     "execution_count": 162,
     "metadata": {},
     "output_type": "execute_result"
    }
   ],
   "source": [
    "[f\"even:{i}\" if i%2==0 else f\"odd:{i}\" for i in range(1,20)]\n"
   ]
  },
  {
   "cell_type": "code",
   "execution_count": null,
   "id": "45fb089a",
   "metadata": {},
   "outputs": [],
   "source": []
  }
 ],
 "metadata": {
  "kernelspec": {
   "display_name": "Python 3",
   "language": "python",
   "name": "python3"
  },
  "language_info": {
   "codemirror_mode": {
    "name": "ipython",
    "version": 3
   },
   "file_extension": ".py",
   "mimetype": "text/x-python",
   "name": "python",
   "nbconvert_exporter": "python",
   "pygments_lexer": "ipython3",
   "version": "3.8.8"
  }
 },
 "nbformat": 4,
 "nbformat_minor": 5
}
